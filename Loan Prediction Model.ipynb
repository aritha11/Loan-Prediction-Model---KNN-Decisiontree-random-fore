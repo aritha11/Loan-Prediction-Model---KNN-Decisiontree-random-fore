{
 "cells": [
  {
   "cell_type": "code",
   "execution_count": null,
   "id": "c41908b2-883c-4682-8f77-917fa3b38c66",
   "metadata": {},
   "outputs": [],
   "source": [
    "Aurthor - Aritha Mindula Jayaratne\n",
    "Student ID - s4683873 \n",
    "Subject name - Predictive analysis (BCO6008)\n"
   ]
  },
  {
   "cell_type": "markdown",
   "id": "b15217dd-2488-44f4-a17c-d26708e70f61",
   "metadata": {},
   "source": [
    "LOAN PREDICTION MACHINE LEARNING ALGORITHMS. "
   ]
  },
  {
   "cell_type": "code",
   "execution_count": 3,
   "id": "efe2b8db-7276-4c0b-8203-e125fb469747",
   "metadata": {},
   "outputs": [],
   "source": [
    "#Import the libraries needed for the project.\n",
    "\n",
    "import pandas as pd\n",
    "import numpy as np\n",
    "import matplotlib.pyplot as plt\n",
    "import seaborn as sns\n",
    "\n",
    "df = pd.read_csv(\"C:/Users/user/OneDrive/Desktop/Predictive Analytics/Assessment 1/assessment2_dataset.csv\")"
   ]
  },
  {
   "cell_type": "markdown",
   "id": "2f3892a5-ec1a-466e-af30-bbaa5240e708",
   "metadata": {},
   "source": [
    "1.\tBusiness understanding.\r\n",
    "Prosperity bank is a leading financial institution, the bank is committed on improving customer satisfaction and prioritizing innovation while focusing on solutions. The bank aims to streamline and improve the loan qualification process by leveraging machine learning algorithms. This part of the report gives the reader an understanding of the business side of the machine learning model. This report focusses on the CRISP-DM model, objectives, scopes, stakeholders and the criteria of the project. \n",
    "\r\n",
    "Objective:\r\n",
    "Main objective of this initiative us to automate and predict the loan qualification process of the bank using the information gathered from forma submitted by the customers. By implementing machine learning models, the bank aims to improve the prediction of the loan granting  process and also ensure the efficiency and the decision making process to achieve business goals. The automation of this process will enhance customer experience and optimize internal operations while aligning with banks commitment to innovate customer centric solutions\n",
    ". \r\n",
    "Success Criteria:\r\n",
    "Improved loan approval raises: Increase in the acyuracy of the loan approval predictions which will lead to higher and efficient approval rates for eligible customers. \r\n",
    "Reduced processing times: Loan processing times will drastically decrease when evaluating loans which will result in faster responses to the customers.\r\n",
    "Enhanced customer satisfaction: An overall improvement in customer experience due to streamlining this process using machine learning. \r\n",
    "Regulatory Compliance: Making sure the machine learning models and the gathered data are meeting the relevant data and privacy policies of the company and the government. \r\n",
    "\r\n"
   ]
  },
  {
   "cell_type": "markdown",
   "id": "cac6e1e6-b4bb-4ee7-8eb2-97b6a24829d8",
   "metadata": {},
   "source": [
    "2.\tData understanding. \n",
    "The relevant data needed for this project was obtained internally through prosperity bank. The collection of the data was done through forms which was handed out to the customers who has applied for loans through the bank. The data which was given to the data team was in a tabular format, primarily as a csv file. The given data set to train and test the models consisted of 13 columns and there was roughly 560 – 610 rows of data in each column. A graphical representation is shown for the reader to have an understanding on the data set. The dataset consist of various types of variables which includes numerical and categorical data. The main data types present in the dataset is strings, integers, and floats. \n"
   ]
  },
  {
   "cell_type": "code",
   "execution_count": 4,
   "id": "1c6ca9fc-e64b-4ad3-a803-834a93024bdc",
   "metadata": {
    "scrolled": true
   },
   "outputs": [
    {
     "data": {
      "text/plain": [
       "(610, 13)"
      ]
     },
     "execution_count": 4,
     "metadata": {},
     "output_type": "execute_result"
    }
   ],
   "source": [
    "df.shape"
   ]
  },
  {
   "cell_type": "code",
   "execution_count": 5,
   "id": "c2aa08c5-7f29-4674-92b1-6b47f0d18253",
   "metadata": {},
   "outputs": [
    {
     "data": {
      "text/html": [
       "<div>\n",
       "<style scoped>\n",
       "    .dataframe tbody tr th:only-of-type {\n",
       "        vertical-align: middle;\n",
       "    }\n",
       "\n",
       "    .dataframe tbody tr th {\n",
       "        vertical-align: top;\n",
       "    }\n",
       "\n",
       "    .dataframe thead th {\n",
       "        text-align: right;\n",
       "    }\n",
       "</style>\n",
       "<table border=\"1\" class=\"dataframe\">\n",
       "  <thead>\n",
       "    <tr style=\"text-align: right;\">\n",
       "      <th></th>\n",
       "      <th>Loan_ID</th>\n",
       "      <th>Gender</th>\n",
       "      <th>Marital_Status</th>\n",
       "      <th>Number_of_Dependents</th>\n",
       "      <th>Education_Level</th>\n",
       "      <th>Independent_Worker</th>\n",
       "      <th>Applicant_Income</th>\n",
       "      <th>Coapplicant_Income</th>\n",
       "      <th>Location</th>\n",
       "      <th>Amount_Requested</th>\n",
       "      <th>Term</th>\n",
       "      <th>Credit_History</th>\n",
       "      <th>Approval_Status</th>\n",
       "    </tr>\n",
       "  </thead>\n",
       "  <tbody>\n",
       "    <tr>\n",
       "      <th>0</th>\n",
       "      <td>LP00031</td>\n",
       "      <td>Male</td>\n",
       "      <td>Yes</td>\n",
       "      <td>0</td>\n",
       "      <td>Graduate</td>\n",
       "      <td>No</td>\n",
       "      <td>9329</td>\n",
       "      <td>0</td>\n",
       "      <td>Rural</td>\n",
       "      <td>189.0</td>\n",
       "      <td>180.0</td>\n",
       "      <td>1.0</td>\n",
       "      <td>Y</td>\n",
       "    </tr>\n",
       "    <tr>\n",
       "      <th>1</th>\n",
       "      <td>LP00032</td>\n",
       "      <td>Male</td>\n",
       "      <td>Yes</td>\n",
       "      <td>2</td>\n",
       "      <td>Graduate</td>\n",
       "      <td>No</td>\n",
       "      <td>2043</td>\n",
       "      <td>1619</td>\n",
       "      <td>Rural</td>\n",
       "      <td>102.0</td>\n",
       "      <td>360.0</td>\n",
       "      <td>1.0</td>\n",
       "      <td>Y</td>\n",
       "    </tr>\n",
       "    <tr>\n",
       "      <th>2</th>\n",
       "      <td>LP00033</td>\n",
       "      <td>Male</td>\n",
       "      <td>Yes</td>\n",
       "      <td>0</td>\n",
       "      <td>Graduate</td>\n",
       "      <td>No</td>\n",
       "      <td>4754</td>\n",
       "      <td>2331</td>\n",
       "      <td>Urban</td>\n",
       "      <td>129.0</td>\n",
       "      <td>360.0</td>\n",
       "      <td>1.0</td>\n",
       "      <td>Y</td>\n",
       "    </tr>\n",
       "    <tr>\n",
       "      <th>3</th>\n",
       "      <td>LP00034</td>\n",
       "      <td>Male</td>\n",
       "      <td>No</td>\n",
       "      <td>0</td>\n",
       "      <td>Not Graduate</td>\n",
       "      <td>No</td>\n",
       "      <td>2721</td>\n",
       "      <td>0</td>\n",
       "      <td>Urban</td>\n",
       "      <td>59.0</td>\n",
       "      <td>180.0</td>\n",
       "      <td>1.0</td>\n",
       "      <td>Y</td>\n",
       "    </tr>\n",
       "    <tr>\n",
       "      <th>4</th>\n",
       "      <td>LP00035</td>\n",
       "      <td>Male</td>\n",
       "      <td>Yes</td>\n",
       "      <td>0</td>\n",
       "      <td>Graduate</td>\n",
       "      <td>No</td>\n",
       "      <td>2998</td>\n",
       "      <td>3419</td>\n",
       "      <td>Semiurban</td>\n",
       "      <td>56.0</td>\n",
       "      <td>180.0</td>\n",
       "      <td>1.0</td>\n",
       "      <td>Y</td>\n",
       "    </tr>\n",
       "  </tbody>\n",
       "</table>\n",
       "</div>"
      ],
      "text/plain": [
       "   Loan_ID Gender Marital_Status Number_of_Dependents Education_Level  \\\n",
       "0  LP00031   Male            Yes                    0        Graduate   \n",
       "1  LP00032   Male            Yes                    2        Graduate   \n",
       "2  LP00033   Male            Yes                    0        Graduate   \n",
       "3  LP00034   Male             No                    0    Not Graduate   \n",
       "4  LP00035   Male            Yes                    0        Graduate   \n",
       "\n",
       "  Independent_Worker  Applicant_Income  Coapplicant_Income   Location  \\\n",
       "0                 No              9329                   0      Rural   \n",
       "1                 No              2043                1619      Rural   \n",
       "2                 No              4754                2331      Urban   \n",
       "3                 No              2721                   0      Urban   \n",
       "4                 No              2998                3419  Semiurban   \n",
       "\n",
       "   Amount_Requested   Term  Credit_History Approval_Status  \n",
       "0             189.0  180.0             1.0               Y  \n",
       "1             102.0  360.0             1.0               Y  \n",
       "2             129.0  360.0             1.0               Y  \n",
       "3              59.0  180.0             1.0               Y  \n",
       "4              56.0  180.0             1.0               Y  "
      ]
     },
     "execution_count": 5,
     "metadata": {},
     "output_type": "execute_result"
    }
   ],
   "source": [
    "df.head() # We got some categorical data, and it's a binary classification (Yes, NO)"
   ]
  },
  {
   "cell_type": "code",
   "execution_count": 6,
   "id": "7ce9c5f0-6ec1-4602-8972-05033b4976d3",
   "metadata": {},
   "outputs": [
    {
     "name": "stdout",
     "output_type": "stream",
     "text": [
      "<class 'pandas.core.frame.DataFrame'>\n",
      "RangeIndex: 610 entries, 0 to 609\n",
      "Data columns (total 13 columns):\n",
      " #   Column                Non-Null Count  Dtype  \n",
      "---  ------                --------------  -----  \n",
      " 0   Loan_ID               610 non-null    object \n",
      " 1   Gender                597 non-null    object \n",
      " 2   Marital_Status        607 non-null    object \n",
      " 3   Number_of_Dependents  595 non-null    object \n",
      " 4   Education_Level       610 non-null    object \n",
      " 5   Independent_Worker    578 non-null    object \n",
      " 6   Applicant_Income      610 non-null    int64  \n",
      " 7   Coapplicant_Income    610 non-null    int64  \n",
      " 8   Location              610 non-null    object \n",
      " 9   Amount_Requested      592 non-null    float64\n",
      " 10  Term                  596 non-null    float64\n",
      " 11  Credit_History        560 non-null    float64\n",
      " 12  Approval_Status       610 non-null    object \n",
      "dtypes: float64(3), int64(2), object(8)\n",
      "memory usage: 62.1+ KB\n"
     ]
    }
   ],
   "source": [
    "df.info() # There are some missing values in the data set. will clean them further down the code."
   ]
  },
  {
   "cell_type": "code",
   "execution_count": 7,
   "id": "09b6f6ce-8894-4900-87e8-063940d786cc",
   "metadata": {},
   "outputs": [
    {
     "data": {
      "text/html": [
       "<div>\n",
       "<style scoped>\n",
       "    .dataframe tbody tr th:only-of-type {\n",
       "        vertical-align: middle;\n",
       "    }\n",
       "\n",
       "    .dataframe tbody tr th {\n",
       "        vertical-align: top;\n",
       "    }\n",
       "\n",
       "    .dataframe thead th {\n",
       "        text-align: right;\n",
       "    }\n",
       "</style>\n",
       "<table border=\"1\" class=\"dataframe\">\n",
       "  <thead>\n",
       "    <tr style=\"text-align: right;\">\n",
       "      <th></th>\n",
       "      <th>Applicant_Income</th>\n",
       "      <th>Coapplicant_Income</th>\n",
       "      <th>Amount_Requested</th>\n",
       "      <th>Term</th>\n",
       "      <th>Credit_History</th>\n",
       "    </tr>\n",
       "  </thead>\n",
       "  <tbody>\n",
       "    <tr>\n",
       "      <th>count</th>\n",
       "      <td>610.000000</td>\n",
       "      <td>610.000000</td>\n",
       "      <td>592.000000</td>\n",
       "      <td>596.000000</td>\n",
       "      <td>560.000000</td>\n",
       "    </tr>\n",
       "    <tr>\n",
       "      <th>mean</th>\n",
       "      <td>5415.578689</td>\n",
       "      <td>1622.114754</td>\n",
       "      <td>146.459459</td>\n",
       "      <td>341.879195</td>\n",
       "      <td>0.841071</td>\n",
       "    </tr>\n",
       "    <tr>\n",
       "      <th>std</th>\n",
       "      <td>6126.143268</td>\n",
       "      <td>2935.113192</td>\n",
       "      <td>85.597858</td>\n",
       "      <td>65.322153</td>\n",
       "      <td>0.365936</td>\n",
       "    </tr>\n",
       "    <tr>\n",
       "      <th>min</th>\n",
       "      <td>147.000000</td>\n",
       "      <td>0.000000</td>\n",
       "      <td>9.000000</td>\n",
       "      <td>12.000000</td>\n",
       "      <td>0.000000</td>\n",
       "    </tr>\n",
       "    <tr>\n",
       "      <th>25%</th>\n",
       "      <td>2882.750000</td>\n",
       "      <td>0.000000</td>\n",
       "      <td>101.000000</td>\n",
       "      <td>360.000000</td>\n",
       "      <td>1.000000</td>\n",
       "    </tr>\n",
       "    <tr>\n",
       "      <th>50%</th>\n",
       "      <td>3813.000000</td>\n",
       "      <td>1150.000000</td>\n",
       "      <td>127.500000</td>\n",
       "      <td>360.000000</td>\n",
       "      <td>1.000000</td>\n",
       "    </tr>\n",
       "    <tr>\n",
       "      <th>75%</th>\n",
       "      <td>5793.750000</td>\n",
       "      <td>2299.500000</td>\n",
       "      <td>167.500000</td>\n",
       "      <td>360.000000</td>\n",
       "      <td>1.000000</td>\n",
       "    </tr>\n",
       "    <tr>\n",
       "      <th>max</th>\n",
       "      <td>81000.000000</td>\n",
       "      <td>41667.000000</td>\n",
       "      <td>700.000000</td>\n",
       "      <td>480.000000</td>\n",
       "      <td>1.000000</td>\n",
       "    </tr>\n",
       "  </tbody>\n",
       "</table>\n",
       "</div>"
      ],
      "text/plain": [
       "       Applicant_Income  Coapplicant_Income  Amount_Requested        Term  \\\n",
       "count        610.000000          610.000000        592.000000  596.000000   \n",
       "mean        5415.578689         1622.114754        146.459459  341.879195   \n",
       "std         6126.143268         2935.113192         85.597858   65.322153   \n",
       "min          147.000000            0.000000          9.000000   12.000000   \n",
       "25%         2882.750000            0.000000        101.000000  360.000000   \n",
       "50%         3813.000000         1150.000000        127.500000  360.000000   \n",
       "75%         5793.750000         2299.500000        167.500000  360.000000   \n",
       "max        81000.000000        41667.000000        700.000000  480.000000   \n",
       "\n",
       "       Credit_History  \n",
       "count      560.000000  \n",
       "mean         0.841071  \n",
       "std          0.365936  \n",
       "min          0.000000  \n",
       "25%          1.000000  \n",
       "50%          1.000000  \n",
       "75%          1.000000  \n",
       "max          1.000000  "
      ]
     },
     "execution_count": 7,
     "metadata": {},
     "output_type": "execute_result"
    }
   ],
   "source": [
    "df.describe() # Describe the numerical data in the data set. "
   ]
  },
  {
   "cell_type": "code",
   "execution_count": 8,
   "id": "3725396a-be3b-4c6f-8a52-3c47dc127812",
   "metadata": {},
   "outputs": [
    {
     "data": {
      "text/html": [
       "<div>\n",
       "<style scoped>\n",
       "    .dataframe tbody tr th:only-of-type {\n",
       "        vertical-align: middle;\n",
       "    }\n",
       "\n",
       "    .dataframe tbody tr th {\n",
       "        vertical-align: top;\n",
       "    }\n",
       "\n",
       "    .dataframe thead th {\n",
       "        text-align: right;\n",
       "    }\n",
       "</style>\n",
       "<table border=\"1\" class=\"dataframe\">\n",
       "  <thead>\n",
       "    <tr style=\"text-align: right;\">\n",
       "      <th></th>\n",
       "      <th>Loan_ID</th>\n",
       "      <th>Gender</th>\n",
       "      <th>Marital_Status</th>\n",
       "      <th>Number_of_Dependents</th>\n",
       "      <th>Education_Level</th>\n",
       "      <th>Independent_Worker</th>\n",
       "      <th>Location</th>\n",
       "      <th>Credit_History</th>\n",
       "      <th>Approval_Status</th>\n",
       "    </tr>\n",
       "  </thead>\n",
       "  <tbody>\n",
       "    <tr>\n",
       "      <th>count</th>\n",
       "      <td>610</td>\n",
       "      <td>597</td>\n",
       "      <td>607</td>\n",
       "      <td>595</td>\n",
       "      <td>610</td>\n",
       "      <td>578</td>\n",
       "      <td>610</td>\n",
       "      <td>560.0</td>\n",
       "      <td>610</td>\n",
       "    </tr>\n",
       "    <tr>\n",
       "      <th>unique</th>\n",
       "      <td>610</td>\n",
       "      <td>2</td>\n",
       "      <td>2</td>\n",
       "      <td>4</td>\n",
       "      <td>2</td>\n",
       "      <td>2</td>\n",
       "      <td>3</td>\n",
       "      <td>2.0</td>\n",
       "      <td>2</td>\n",
       "    </tr>\n",
       "    <tr>\n",
       "      <th>top</th>\n",
       "      <td>LP00031</td>\n",
       "      <td>Male</td>\n",
       "      <td>Yes</td>\n",
       "      <td>0</td>\n",
       "      <td>Graduate</td>\n",
       "      <td>No</td>\n",
       "      <td>Semiurban</td>\n",
       "      <td>1.0</td>\n",
       "      <td>Y</td>\n",
       "    </tr>\n",
       "    <tr>\n",
       "      <th>freq</th>\n",
       "      <td>1</td>\n",
       "      <td>485</td>\n",
       "      <td>395</td>\n",
       "      <td>343</td>\n",
       "      <td>478</td>\n",
       "      <td>496</td>\n",
       "      <td>233</td>\n",
       "      <td>471.0</td>\n",
       "      <td>418</td>\n",
       "    </tr>\n",
       "  </tbody>\n",
       "</table>\n",
       "</div>"
      ],
      "text/plain": [
       "        Loan_ID Gender Marital_Status Number_of_Dependents Education_Level  \\\n",
       "count       610    597            607                  595             610   \n",
       "unique      610      2              2                    4               2   \n",
       "top     LP00031   Male            Yes                    0        Graduate   \n",
       "freq          1    485            395                  343             478   \n",
       "\n",
       "       Independent_Worker   Location  Credit_History Approval_Status  \n",
       "count                 578        610           560.0             610  \n",
       "unique                  2          3             2.0               2  \n",
       "top                    No  Semiurban             1.0               Y  \n",
       "freq                  496        233           471.0             418  "
      ]
     },
     "execution_count": 8,
     "metadata": {},
     "output_type": "execute_result"
    }
   ],
   "source": [
    "\n",
    "df['Credit_History'] = df['Credit_History'].astype('O') # change the type of Credit_History to object becaues we can see that it is 1 or 0\n",
    "\n",
    "df.describe(include='O')\n"
   ]
  },
  {
   "cell_type": "code",
   "execution_count": 9,
   "id": "173a39f2-386a-47e0-ad0e-454687743e2e",
   "metadata": {
    "scrolled": true
   },
   "outputs": [
    {
     "name": "stdout",
     "output_type": "stream",
     "text": [
      "<class 'pandas.core.frame.DataFrame'>\n",
      "RangeIndex: 610 entries, 0 to 609\n",
      "Data columns (total 12 columns):\n",
      " #   Column                Non-Null Count  Dtype  \n",
      "---  ------                --------------  -----  \n",
      " 0   Gender                597 non-null    object \n",
      " 1   Marital_Status        607 non-null    object \n",
      " 2   Number_of_Dependents  595 non-null    object \n",
      " 3   Education_Level       610 non-null    object \n",
      " 4   Independent_Worker    578 non-null    object \n",
      " 5   Applicant_Income      610 non-null    int64  \n",
      " 6   Coapplicant_Income    610 non-null    int64  \n",
      " 7   Location              610 non-null    object \n",
      " 8   Amount_Requested      592 non-null    float64\n",
      " 9   Term                  596 non-null    float64\n",
      " 10  Credit_History        560 non-null    object \n",
      " 11  Approval_Status       610 non-null    object \n",
      "dtypes: float64(2), int64(2), object(8)\n",
      "memory usage: 57.3+ KB\n"
     ]
    }
   ],
   "source": [
    "df.drop('Loan_ID', axis=1, inplace=True) # we will drop ID because it's not important for our model and it will just mislead the model\n",
    "\n",
    "df.duplicated().any()\n",
    "df.info()\n"
   ]
  },
  {
   "cell_type": "markdown",
   "id": "dea6a5d4-a12e-41bc-9201-e21ddb65d5ff",
   "metadata": {},
   "source": [
    "Exploratory data analysis. \n",
    "\r\n",
    "Before starting the EDA for the given data set, the data set id examined to get an understanding about the data and provides information about the missing data in the data set. Also, the code will describes about the numerical and the categorical features of the data set. Also, the Credit_histroy column will be turned into an object type data and further down the analysis it will be turned back again into an integer to be fed into the model. Loan_ID column is removed as it is not important for the analysis and if the column is kept without dropping it will affect the efficiency of the code. These steps will help to understand the data structure and it is ready for the model training\r\n",
    "The Approval_Status column is the target variable or dependent variable, and the other variables will all be independent variables. The code snippet will analyze and visualize the approval rate of the loans and will calculate the percentage for each approval class. Which is denoted by Y and N. The below graph will give a clear understanding about the dependent variable and how it is distributed on the data set\n",
    "The bar shows the approval rate for two classes. Based on the height of the bars the Y has a higher approval rate than the N. percentage wise the result for Y is 0.69 and for N is 0.31. Accordingly, there is an imbalance in the data but for now will consider it as no imbalance and do further analysis. The first part of the analysis is about the categorical features which are also the independent features which will be used in the model.  The first variable is the Credit_History column. . \r\n"
   ]
  },
  {
   "cell_type": "code",
   "execution_count": 10,
   "id": "0b64366e-ae0f-486c-b78a-d0044c78d964",
   "metadata": {},
   "outputs": [
    {
     "name": "stdout",
     "output_type": "stream",
     "text": [
      "object\n"
     ]
    },
    {
     "name": "stderr",
     "output_type": "stream",
     "text": [
      "C:\\Users\\user\\AppData\\Local\\Temp\\ipykernel_27360\\321399598.py:7: FutureWarning: \n",
      "\n",
      "Passing `palette` without assigning `hue` is deprecated and will be removed in v0.14.0. Assign the `x` variable to `hue` and set `legend=False` for the same effect.\n",
      "\n",
      "  sns.countplot(data=df, x='Approval_Status', palette='viridis')\n"
     ]
    },
    {
     "data": {
      "image/png": "[encoded data removed]",
      "text/plain": [
       "<Figure size 800x600 with 1 Axes>"
      ]
     },
     "metadata": {},
     "output_type": "display_data"
    }
   ],
   "source": [
    "# Check the approval status of loans to get a idea of the approval rate of the data set. According to the percentage 0.69 has been approved and 0.31 percent has been denied. \n",
    "\n",
    "print(df['Approval_Status'].dtype) \n",
    "df['Approval_Status'] = df['Approval_Status'].astype('category')\n",
    "# Plot countplot\n",
    "plt.figure(figsize=(8,6))\n",
    "sns.countplot(data=df, x='Approval_Status', palette='viridis')\n",
    "plt.xlabel('Approval Status')\n",
    "plt.ylabel('Count')\n",
    "plt.title('Count of Approval Status')\n",
    "plt.show()"
   ]
  },
  {
   "cell_type": "code",
   "execution_count": 11,
   "id": "d07aa6a5-e40a-4258-b719-27d4741eca95",
   "metadata": {
    "scrolled": true
   },
   "outputs": [
    {
     "name": "stdout",
     "output_type": "stream",
     "text": [
      "The percentage of Y class : 0.69\n",
      "The percentage of N class : 0.31\n"
     ]
    },
    {
     "name": "stderr",
     "output_type": "stream",
     "text": [
      "C:\\Users\\user\\AppData\\Local\\Temp\\ipykernel_27360\\3765238664.py:1: FutureWarning: Series.__getitem__ treating keys as positions is deprecated. In a future version, integer keys will always be treated as labels (consistent with DataFrame behavior). To access a value by position, use `ser.iloc[pos]`\n",
      "  print('The percentage of Y class : %.2f' % (df['Approval_Status'].value_counts()[0] / len(df)))\n",
      "C:\\Users\\user\\AppData\\Local\\Temp\\ipykernel_27360\\3765238664.py:2: FutureWarning: Series.__getitem__ treating keys as positions is deprecated. In a future version, integer keys will always be treated as labels (consistent with DataFrame behavior). To access a value by position, use `ser.iloc[pos]`\n",
      "  print('The percentage of N class : %.2f' % (df['Approval_Status'].value_counts()[1] / len(df)))\n"
     ]
    }
   ],
   "source": [
    "print('The percentage of Y class : %.2f' % (df['Approval_Status'].value_counts()[0] / len(df)))\n",
    "print('The percentage of N class : %.2f' % (df['Approval_Status'].value_counts()[1] / len(df)))"
   ]
  },
  {
   "cell_type": "code",
   "execution_count": 12,
   "id": "0a301b0b-60e7-49ec-8625-ecc17a9d7a8f",
   "metadata": {},
   "outputs": [
    {
     "data": {
      "text/html": [
       "<div>\n",
       "<style scoped>\n",
       "    .dataframe tbody tr th:only-of-type {\n",
       "        vertical-align: middle;\n",
       "    }\n",
       "\n",
       "    .dataframe tbody tr th {\n",
       "        vertical-align: top;\n",
       "    }\n",
       "\n",
       "    .dataframe thead th {\n",
       "        text-align: right;\n",
       "    }\n",
       "</style>\n",
       "<table border=\"1\" class=\"dataframe\">\n",
       "  <thead>\n",
       "    <tr style=\"text-align: right;\">\n",
       "      <th></th>\n",
       "      <th>Gender</th>\n",
       "      <th>Marital_Status</th>\n",
       "      <th>Number_of_Dependents</th>\n",
       "      <th>Education_Level</th>\n",
       "      <th>Independent_Worker</th>\n",
       "      <th>Applicant_Income</th>\n",
       "      <th>Coapplicant_Income</th>\n",
       "      <th>Location</th>\n",
       "      <th>Amount_Requested</th>\n",
       "      <th>Term</th>\n",
       "      <th>Credit_History</th>\n",
       "      <th>Approval_Status</th>\n",
       "    </tr>\n",
       "  </thead>\n",
       "  <tbody>\n",
       "    <tr>\n",
       "      <th>0</th>\n",
       "      <td>Male</td>\n",
       "      <td>Yes</td>\n",
       "      <td>0</td>\n",
       "      <td>Graduate</td>\n",
       "      <td>No</td>\n",
       "      <td>9329</td>\n",
       "      <td>0</td>\n",
       "      <td>Rural</td>\n",
       "      <td>189.0</td>\n",
       "      <td>180.0</td>\n",
       "      <td>1.0</td>\n",
       "      <td>Y</td>\n",
       "    </tr>\n",
       "    <tr>\n",
       "      <th>1</th>\n",
       "      <td>Male</td>\n",
       "      <td>Yes</td>\n",
       "      <td>2</td>\n",
       "      <td>Graduate</td>\n",
       "      <td>No</td>\n",
       "      <td>2043</td>\n",
       "      <td>1619</td>\n",
       "      <td>Rural</td>\n",
       "      <td>102.0</td>\n",
       "      <td>360.0</td>\n",
       "      <td>1.0</td>\n",
       "      <td>Y</td>\n",
       "    </tr>\n",
       "    <tr>\n",
       "      <th>2</th>\n",
       "      <td>Male</td>\n",
       "      <td>Yes</td>\n",
       "      <td>0</td>\n",
       "      <td>Graduate</td>\n",
       "      <td>No</td>\n",
       "      <td>4754</td>\n",
       "      <td>2331</td>\n",
       "      <td>Urban</td>\n",
       "      <td>129.0</td>\n",
       "      <td>360.0</td>\n",
       "      <td>1.0</td>\n",
       "      <td>Y</td>\n",
       "    </tr>\n",
       "    <tr>\n",
       "      <th>3</th>\n",
       "      <td>Male</td>\n",
       "      <td>No</td>\n",
       "      <td>0</td>\n",
       "      <td>Not Graduate</td>\n",
       "      <td>No</td>\n",
       "      <td>2721</td>\n",
       "      <td>0</td>\n",
       "      <td>Urban</td>\n",
       "      <td>59.0</td>\n",
       "      <td>180.0</td>\n",
       "      <td>1.0</td>\n",
       "      <td>Y</td>\n",
       "    </tr>\n",
       "    <tr>\n",
       "      <th>4</th>\n",
       "      <td>Male</td>\n",
       "      <td>Yes</td>\n",
       "      <td>0</td>\n",
       "      <td>Graduate</td>\n",
       "      <td>No</td>\n",
       "      <td>2998</td>\n",
       "      <td>3419</td>\n",
       "      <td>Semiurban</td>\n",
       "      <td>56.0</td>\n",
       "      <td>180.0</td>\n",
       "      <td>1.0</td>\n",
       "      <td>Y</td>\n",
       "    </tr>\n",
       "  </tbody>\n",
       "</table>\n",
       "</div>"
      ],
      "text/plain": [
       "  Gender Marital_Status Number_of_Dependents Education_Level  \\\n",
       "0   Male            Yes                    0        Graduate   \n",
       "1   Male            Yes                    2        Graduate   \n",
       "2   Male            Yes                    0        Graduate   \n",
       "3   Male             No                    0    Not Graduate   \n",
       "4   Male            Yes                    0        Graduate   \n",
       "\n",
       "  Independent_Worker  Applicant_Income  Coapplicant_Income   Location  \\\n",
       "0                 No              9329                   0      Rural   \n",
       "1                 No              2043                1619      Rural   \n",
       "2                 No              4754                2331      Urban   \n",
       "3                 No              2721                   0      Urban   \n",
       "4                 No              2998                3419  Semiurban   \n",
       "\n",
       "   Amount_Requested   Term Credit_History Approval_Status  \n",
       "0             189.0  180.0            1.0               Y  \n",
       "1             102.0  360.0            1.0               Y  \n",
       "2             129.0  360.0            1.0               Y  \n",
       "3              59.0  180.0            1.0               Y  \n",
       "4              56.0  180.0            1.0               Y  "
      ]
     },
     "execution_count": 12,
     "metadata": {},
     "output_type": "execute_result"
    }
   ],
   "source": [
    "#Exploring the data further to gain insights before creating the models. \n",
    "\n",
    "df.columns\n",
    "\n",
    "#The first part of the explotary analysis will include the categorical data. \n",
    "\n",
    "df.head(5)"
   ]
  },
  {
   "cell_type": "markdown",
   "id": "23e58596-6b27-49c3-b051-2b47fcdd53ea",
   "metadata": {},
   "source": [
    "Credit_History. \n",
    "\r\n",
    "With the count on the y-axis and the credit history on the x-axis, the graph resembles a bar chart. \"Approval Status = Y\" and \"Approval Status = N\" are the labels of the two bars, respectively. \r\n",
    "A class imbalance is suggested by the height of the bars. Class Y has received more approvals than class N. This may indicate that the two classes differ fundamentally in a way that influences the likelihood of loan approval. For example, class Y may have innate qualities that increase the likelihood that applications will be accepted, or the data that was used to create the graph may be skewed in favor of class Y. All things considered, the graph points to a possible relationship between credit history and loan approval status, with a higher credit history (possibly class Y) associated with a higher likelihood of approval. \r\n"
   ]
  },
  {
   "cell_type": "code",
   "execution_count": 13,
   "id": "3558f1ac-2263-4fa5-9ae5-a88da97a1529",
   "metadata": {
    "scrolled": true
   },
   "outputs": [
    {
     "name": "stderr",
     "output_type": "stream",
     "text": [
      "C:\\Users\\user\\anaconda3\\lib\\site-packages\\seaborn\\axisgrid.py:718: UserWarning: Using the countplot function without specifying `order` is likely to produce an incorrect plot.\n",
      "  warnings.warn(warning)\n"
     ]
    },
    {
     "data": {
      "image/png": "[encoded data removed]",
      "text/plain": [
       "<Figure size 1024x320 with 2 Axes>"
      ]
     },
     "metadata": {},
     "output_type": "display_data"
    }
   ],
   "source": [
    "#credit_History\n",
    "grid = sns.FacetGrid(df, col='Approval_Status', height=3.2, aspect=1.6)\n",
    "grid.map(sns.countplot, 'Credit_History');"
   ]
  },
  {
   "cell_type": "markdown",
   "id": "11c36082-e691-4f96-8cba-b45b1de22670",
   "metadata": {},
   "source": [
    "Gender. \n",
    "\r\n",
    "According to the count plot there isn't any noticeable variation in loan approval rates between genders. In simple terms, the quantity of male approvals seems to be comparable to the quantity of female approvals in both graphs (Approved, Denied). This graph suggests that gender may not be a very reliable indicator of loan approval in this dataset. The decisions about approval might be influenced more by other factors. There for further analysis on other variables will be conducted. \r\n",
    "\r\n"
   ]
  },
  {
   "cell_type": "code",
   "execution_count": 14,
   "id": "e1cf96ba-3c46-4adc-b77a-8364c8fbe12e",
   "metadata": {},
   "outputs": [
    {
     "name": "stderr",
     "output_type": "stream",
     "text": [
      "C:\\Users\\user\\anaconda3\\lib\\site-packages\\seaborn\\axisgrid.py:718: UserWarning: Using the countplot function without specifying `order` is likely to produce an incorrect plot.\n",
      "  warnings.warn(warning)\n"
     ]
    },
    {
     "data": {
      "image/png": "[encoded data removed]",
      "text/plain": [
       "<Figure size 1024x320 with 2 Axes>"
      ]
     },
     "metadata": {},
     "output_type": "display_data"
    }
   ],
   "source": [
    "#GENDER\n",
    "grid = sns.FacetGrid(df,col='Approval_Status', height=3.2, aspect=1.6)\n",
    "grid.map(sns.countplot, 'Gender');"
   ]
  },
  {
   "cell_type": "markdown",
   "id": "b790cd6d-c379-4d15-8188-d8dc931cec82",
   "metadata": {},
   "source": [
    "Marital_Status.\r\n",
    "\r\n",
    "On the graph the blue bar heights suggest that a greater percentage of married customers than single customers were granted loans. These are some possible explanations for this incident. Married couples may be viewed by lenders as lower risk borrowers because they have a combined higher income and better credit history. Also due to their higher likelihood of having dependents, married individuals may be seen by lenders as more responsible borrowers. Overall, the graph points to a potential relationship between loan approval and marital status, with married applicants possibly having a higher chance of being approved. This is a good feature for the models to be trained on. \r\n"
   ]
  },
  {
   "cell_type": "code",
   "execution_count": 15,
   "id": "f5f73bd7-2f60-400c-8485-3b704c6ced5e",
   "metadata": {},
   "outputs": [
    {
     "data": {
      "image/png": "[encoded data removed]",
      "text/plain": [
       "<Figure size 1500x500 with 1 Axes>"
      ]
     },
     "metadata": {},
     "output_type": "display_data"
    }
   ],
   "source": [
    "# 3.Marital_Status \n",
    "plt.figure(figsize=(15,5))\n",
    "sns.countplot(x='Marital_Status', hue='Approval_Status', data=df);"
   ]
  },
  {
   "cell_type": "markdown",
   "id": "09526d3e-cd23-4519-a9e7-8c18fca70b18",
   "metadata": {},
   "source": [
    "Number_of_Depedents.\n",
    "\n",
    "On the chart  with the count displayed on the y-axis and the number of dependents (0, 1, 2, 3+) displayed on the x-axis.  It demonstrates, for example, that there are more applicants with no dependents than there are with three or more.\r\n",
    "A loan forecasting model's suitability for incorporating the number of dependents is based upon several factors, such as the nature of the loan and the borrower's credit history . Furthermore more dependents are generally viewed as a greater financial burden on the borrower , which may be harder for an applicant to repay a loan on time. But there are other things to take into account as well, like the borrowers income  and the income of their spouse or partner which could make difference. Another key feature to notice is that if the dependent count is zero then there is a high chance of getting a loan. There for we will consider this  as a good featuer to train our model down  the case study. \n",
    "\n",
    "\n"
   ]
  },
  {
   "cell_type": "code",
   "execution_count": 16,
   "id": "a7ae9820-2b5d-445e-83a2-daec3bd0e758",
   "metadata": {},
   "outputs": [
    {
     "data": {
      "image/png": "[encoded data removed]",
      "text/plain": [
       "<Figure size 1500x500 with 1 Axes>"
      ]
     },
     "metadata": {},
     "output_type": "display_data"
    }
   ],
   "source": [
    "# DEPEDENTS\n",
    "\n",
    "plt.figure(figsize=(15,5))\n",
    "sns.countplot(x='Number_of_Dependents', hue='Approval_Status', data=df);\n",
    "\n",
    "# first if Dependents = 0 , we got higher chance to get a loan ((very hight chance))\n",
    "# good feature"
   ]
  },
  {
   "cell_type": "markdown",
   "id": "13e08eeb-0c92-41bd-b6c6-c32ac4bf45c3",
   "metadata": {},
   "source": [
    "EDUCATION_LEVEL\n",
    "\n",
    "The height of the bar in this stacked bar graph indicates the total number of individuals at each educational level. The number of individuals whose loan was approved (approval status = Y) is represented by the blue portion of the bar, while the number of individuals whose loan was denied (approval status = N) is represented by the other portion of the bar.As the graduate bar is higher than the non-graduate bar, the graph suggests that a greater percentage of the population in this dataset is a graduate.It appears that graduates have a higher approval rate. Compared to the \"non-graduate\" bar, a greater percentage of the \"graduate\" bar is blue.Despite the smaller blue section in the \"non-graduate\" bar representing a lower approval rate, it's crucial to remember that a sizable portion of non-graduates still had their loans approved.Although the graph suggests that the feature might be promising, it should be used cautiously and in conjunction with other pertinent features to create an all-encompassing and equitable loan prediction model. In that case the feature will not be considered.\r\n",
    "\r\n",
    "\n",
    "\n"
   ]
  },
  {
   "cell_type": "code",
   "execution_count": 17,
   "id": "604c7069-a61b-4275-b10d-d51a40cadf2b",
   "metadata": {},
   "outputs": [
    {
     "name": "stderr",
     "output_type": "stream",
     "text": [
      "C:\\Users\\user\\anaconda3\\lib\\site-packages\\seaborn\\axisgrid.py:718: UserWarning: Using the countplot function without specifying `order` is likely to produce an incorrect plot.\n",
      "  warnings.warn(warning)\n"
     ]
    },
    {
     "data": {
      "image/png": "[encoded data removed]",
      "text/plain": [
       "<Figure size 1024x320 with 2 Axes>"
      ]
     },
     "metadata": {},
     "output_type": "display_data"
    }
   ],
   "source": [
    "grid = sns.FacetGrid(df,col='Approval_Status', height=3.2, aspect=1.6)\n",
    "grid.map(sns.countplot, 'Education_Level');"
   ]
  },
  {
   "cell_type": "markdown",
   "id": "bd7f2bea-8092-44dd-8cbc-a9c785e62e86",
   "metadata": {},
   "source": [
    "Location.\n",
    "\n",
    "The bar graph depicts the distribution of loan approval status across three types of locations: Rural, Urban, and Semiurban. From the visual data, it's evident that Semiurban areas have a noticeably higher number of loan approvals (Y) than disapprovals (N). This suggests that applicants from Semiurban areas might have a better chance of loan approval compared to those from Rural and Urban areas. Such a trend can be attributed to various socio-economic factors which may make Semiurban residents more eligible for loans in the eyes of lenders, such as stable incomes, property values, or other demographic and economic criteria.T the location feature showgood potentialal as a predictor in a loan prediction model. The data suggests that including 'Location' could improve the model’s accuracy by capturing the apparent variance in loan approval rates between different areas. When constructing a predictive model, it’s important to note that while the 'Location' feature appears to be a good indicator of loan approval likelihood, it should be used in conjunction with other features to ensure a comprehensive analysis.\n",
    "\n"
   ]
  },
  {
   "cell_type": "code",
   "execution_count": 18,
   "id": "5ecf063c-a937-456e-8b42-bd39109f2996",
   "metadata": {},
   "outputs": [
    {
     "data": {
      "image/png": "[encoded data removed]",
      "text/plain": [
       "<Figure size 1500x500 with 1 Axes>"
      ]
     },
     "metadata": {},
     "output_type": "display_data"
    }
   ],
   "source": [
    "plt.figure(figsize=(15,5))\n",
    "sns.countplot(x='Location', hue='Approval_Status', data=df);"
   ]
  },
  {
   "attachments": {},
   "cell_type": "markdown",
   "id": "696e0d5b-748c-4b9f-aab9-62bbc5291e1b",
   "metadata": {},
   "source": [
    "Self_employeed\n",
    "\n",
    "The graph compares the approval status of loans against the employment type, specifically focusing on independent workers. Notably, a larger number of independent workers have their loans approved (Y) than disapproved (N). However, the count of non-independent workers with loan approvals is significantly higher. Despite this, the data suggests that being an independent worker does not show a strong correlation with loan approval status.Considering this analysis, the employment type 'Independent Worker' does not appear to significantly influence the loan approval process. This conclusion is drawn from the fact that the proportion of approvals to disapprovals within the 'Yes' category for independent workers is not substantially different from the 'No' category. Therefore, including 'Independent Worker' as a feature in a loan prediction model might not substantially improve its predictive power"
   ]
  },
  {
   "cell_type": "code",
   "execution_count": 19,
   "id": "ab862610-3372-4385-8216-c0ef1d1b48f2",
   "metadata": {
    "scrolled": true
   },
   "outputs": [
    {
     "name": "stderr",
     "output_type": "stream",
     "text": [
      "C:\\Users\\user\\anaconda3\\lib\\site-packages\\seaborn\\axisgrid.py:718: UserWarning: Using the countplot function without specifying `order` is likely to produce an incorrect plot.\n",
      "  warnings.warn(warning)\n"
     ]
    },
    {
     "data": {
      "image/png": "[encoded data removed]",
      "text/plain": [
       "<Figure size 1024x320 with 2 Axes>"
      ]
     },
     "metadata": {},
     "output_type": "display_data"
    }
   ],
   "source": [
    "grid = sns.FacetGrid(df,col='Approval_Status', height=3.2, aspect=1.6)\n",
    "grid.map(sns.countplot, 'Independent_Worker');\n"
   ]
  },
  {
   "cell_type": "markdown",
   "id": "a2025b05-4686-4036-8982-1ff969bdc631",
   "metadata": {},
   "source": [
    "Applicant income. \n",
    "\n",
    "The image is a box plot comparing the distribution of applicant income between two loan approval statuses: 'N' for no and 'Y' for yes. The box plot for both categories shows the median income, the interquartile range (IQR), and outliers.From the plot, it is noticeable that the median income for those with an approval status of 'Y' is slightly higher than for those with a status of 'N'. Moreover, there are outliers on both sides, but especially for the 'Y' category, indicating that a few applicants with very high incomes were approved.Applicant income could be a good predictor for a loan prediction model as it likely correlates with the ability to repay a loan. However, the overlap in the income ranges between approved and not approved applicants suggests that while income should be considered, it should not be the sole determinant in the prediction model. Other factors, such as the loan amount, credit history."
   ]
  },
  {
   "cell_type": "code",
   "execution_count": 20,
   "id": "9aecbe5f-de3f-41cc-a31d-509412dfd8d4",
   "metadata": {},
   "outputs": [
    {
     "data": {
      "text/plain": [
       "Text(0, 0.5, 'Applicant Income')"
      ]
     },
     "execution_count": 20,
     "metadata": {},
     "output_type": "execute_result"
    },
    {
     "data": {
      "image/png": "[encoded data removed]",
      "text/plain": [
       "<Figure size 1000x600 with 1 Axes>"
      ]
     },
     "metadata": {},
     "output_type": "display_data"
    }
   ],
   "source": [
    "plt.figure(figsize=(10, 6))\n",
    "sns.boxplot(x='Approval_Status', y='Applicant_Income', hue='Approval_Status', data=df, palette=['blue', 'orange'], dodge=False)\n",
    "plt.title('Applicant Income by Approval Status (Box Plot)')\n",
    "plt.xlabel('Approval Status')\n",
    "plt.ylabel('Applicant Income')"
   ]
  },
  {
   "cell_type": "markdown",
   "id": "0d843d57-4aed-4b22-9c97-587672bd9ad1",
   "metadata": {},
   "source": [
    "Analysis on the Numerical data.\n",
    "\n",
    "Median.\n",
    "\n",
    "The below code calculates the median of the four numerical indepedant features (columns) on the data set. According to the results, 'Amount_Requested' seems to be the most accurate feature for predicting the status of loan approval. This is due to the fact that there is a noticeable difference in the median amount that applicants in the 'Y' (approved) and 'N' (rejected) categories request. In particular, the median amount sought for loans that are approved (designated as \"Y\") is marginally less than the median amount requested for loans that are rejected (designated as \"N\"), which is marginally greater ($130.0). 'Amount_Requested' is therefore a crucial feature for the loan prediction model since it appears to be a discriminating factor in predicting the status of loan approval."
   ]
  },
  {
   "cell_type": "code",
   "execution_count": 21,
   "id": "9edc2e3e-a38e-4fb5-a5a6-57aa8270d327",
   "metadata": {},
   "outputs": [
    {
     "data": {
      "text/html": [
       "<div>\n",
       "<style scoped>\n",
       "    .dataframe tbody tr th:only-of-type {\n",
       "        vertical-align: middle;\n",
       "    }\n",
       "\n",
       "    .dataframe tbody tr th {\n",
       "        vertical-align: top;\n",
       "    }\n",
       "\n",
       "    .dataframe thead th {\n",
       "        text-align: right;\n",
       "    }\n",
       "</style>\n",
       "<table border=\"1\" class=\"dataframe\">\n",
       "  <thead>\n",
       "    <tr style=\"text-align: right;\">\n",
       "      <th></th>\n",
       "      <th>Applicant_Income</th>\n",
       "      <th>Coapplicant_Income</th>\n",
       "      <th>Amount_Requested</th>\n",
       "      <th>Term</th>\n",
       "    </tr>\n",
       "    <tr>\n",
       "      <th>Approval_Status</th>\n",
       "      <th></th>\n",
       "      <th></th>\n",
       "      <th></th>\n",
       "      <th></th>\n",
       "    </tr>\n",
       "  </thead>\n",
       "  <tbody>\n",
       "    <tr>\n",
       "      <th>N</th>\n",
       "      <td>3833.5</td>\n",
       "      <td>267.5</td>\n",
       "      <td>130.0</td>\n",
       "      <td>360.0</td>\n",
       "    </tr>\n",
       "    <tr>\n",
       "      <th>Y</th>\n",
       "      <td>3813.0</td>\n",
       "      <td>1223.0</td>\n",
       "      <td>127.0</td>\n",
       "      <td>360.0</td>\n",
       "    </tr>\n",
       "  </tbody>\n",
       "</table>\n",
       "</div>"
      ],
      "text/plain": [
       "                 Applicant_Income  Coapplicant_Income  Amount_Requested   Term\n",
       "Approval_Status                                                               \n",
       "N                          3833.5               267.5             130.0  360.0\n",
       "Y                          3813.0              1223.0             127.0  360.0"
      ]
     },
     "execution_count": 21,
     "metadata": {},
     "output_type": "execute_result"
    }
   ],
   "source": [
    "#calculate the medians of the numerical dataset based on the approval status column.\n",
    "\n",
    "median_values = df.groupby('Approval_Status', observed=True)[['Applicant_Income', 'Coapplicant_Income', 'Amount_Requested', 'Term']].median()\n",
    "median_values"
   ]
  },
  {
   "cell_type": "markdown",
   "id": "34ebfa35-8971-4a49-9688-e600b842efa4",
   "metadata": {},
   "source": [
    "Correlation.\n",
    "\n",
    "According to the correlation results, 'Amount_Requested' (correlation coefficient = 0.043450) is the feature that has the highest correlation with the loan approval status, 'Approval_Status'. This implies that there is a small correlation between the status of loan approval and 'Amount_Requested'. Despite the generally low correlation coefficients on all the tested features, 'Amount_Requested' continues to be the feature most closely linked to the approval status. Thus, of all the features analysed here, it is the most suitable for a loan prediction model."
   ]
  },
  {
   "cell_type": "code",
   "execution_count": 63,
   "id": "6576a69b-a17d-4295-9221-26461a1750cc",
   "metadata": {},
   "outputs": [
    {
     "name": "stdout",
     "output_type": "stream",
     "text": [
      "                    Applicant_Income  Coapplicant_Income  Amount_Requested  \\\n",
      "Applicant_Income            1.000000           -0.116293          0.544342   \n",
      "Coapplicant_Income         -0.116293            1.000000          0.184997   \n",
      "Amount_Requested            0.544342            0.184997          1.000000   \n",
      "Term                       -0.045844           -0.058492          0.039416   \n",
      "Approval_Status             0.003382            0.059105          0.043450   \n",
      "\n",
      "                        Term  Approval_Status  \n",
      "Applicant_Income   -0.045844         0.003382  \n",
      "Coapplicant_Income -0.058492         0.059105  \n",
      "Amount_Requested    0.039416         0.043450  \n",
      "Term                1.000000         0.021545  \n",
      "Approval_Status     0.021545         1.000000  \n"
     ]
    }
   ],
   "source": [
    "correlation_matrix = df[['Applicant_Income', 'Coapplicant_Income', 'Amount_Requested', 'Term', 'Approval_Status']].corr()\n",
    "print(correlation_matrix)"
   ]
  },
  {
   "cell_type": "markdown",
   "id": "708e36da-d395-45dc-ac13-b59bc38f4863",
   "metadata": {},
   "source": [
    "3. Data Preperation.\n",
    "\n",
    "Data prepration is making the data suitable to be fed into the machine learning models, pre-processing, cleaning, and coding the categorical data into numerics which is known as coding  are all part of data preparation. This stage could involve activities like feature engineering, handling missing values, eliminating outliers, and combining data from several sources. Each code will be explained with results for the reader to undersatnd each step of the data preperation process. "
   ]
  },
  {
   "cell_type": "code",
   "execution_count": 22,
   "id": "42e990e2-d402-46b1-8642-3eb38579a359",
   "metadata": {},
   "outputs": [],
   "source": [
    "#Install the needed libraries and load them into the script. \n",
    "import pandas as pd\n",
    "from sklearn.model_selection import train_test_split\n",
    "from sklearn.preprocessing import LabelEncoder\n",
    "from sklearn.impute import SimpleImputer  # Corrected import\n",
    "from sklearn.neighbors import KNeighborsClassifier\n",
    "from sklearn.tree import DecisionTreeClassifier\n",
    "from sklearn.ensemble import RandomForestClassifier\n",
    "from sklearn.metrics import accuracy_score, precision_score, recall_score, f1_score"
   ]
  },
  {
   "cell_type": "code",
   "execution_count": 33,
   "id": "51ff348c-7753-4d64-bbb6-7bde39dc019f",
   "metadata": {},
   "outputs": [],
   "source": [
    "df.isnull().sum().sort_values(ascending=False) # check the data set for missing values and add them up to have an understanding.\n",
    "df['Approval_Status'] = df['Approval_Status'].astype(object) # Approval column will be converted into a string type from integer type.\n"
   ]
  },
  {
   "cell_type": "code",
   "execution_count": 34,
   "id": "7673f9aa-f1fd-4464-985d-32c592acb783",
   "metadata": {},
   "outputs": [],
   "source": [
    "# We will separate the numerical columns from the categorical\n",
    "\n",
    "#create two empty lists \n",
    "cat_data = []\n",
    "num_data = []\n",
    "\n",
    "for i,c in enumerate(df.dtypes): # check if the data type is an object    \n",
    "    if c == object:\n",
    "        cat_data.append(df.iloc[:, i]) # if the data type is a object append it to cat_data\n",
    "    else :\n",
    "        num_data.append(df.iloc[:, i]) #if numeric append it to num_data"
   ]
  },
  {
   "cell_type": "code",
   "execution_count": 35,
   "id": "f1e07590-8e2b-4cf8-8a9d-a58636ad3faf",
   "metadata": {},
   "outputs": [],
   "source": [
    "cat_data = pd.DataFrame(cat_data).transpose() #convert the categorical data into a data frame and transpose the dataset\n",
    "num_data = pd.DataFrame(num_data).transpose() #convert the numerical data into a data frame and transpose the dataset"
   ]
  },
  {
   "cell_type": "code",
   "execution_count": 36,
   "id": "9dce882b-a73f-4871-8e88-4101c37926c7",
   "metadata": {},
   "outputs": [
    {
     "data": {
      "text/html": [
       "<div>\n",
       "<style scoped>\n",
       "    .dataframe tbody tr th:only-of-type {\n",
       "        vertical-align: middle;\n",
       "    }\n",
       "\n",
       "    .dataframe tbody tr th {\n",
       "        vertical-align: top;\n",
       "    }\n",
       "\n",
       "    .dataframe thead th {\n",
       "        text-align: right;\n",
       "    }\n",
       "</style>\n",
       "<table border=\"1\" class=\"dataframe\">\n",
       "  <thead>\n",
       "    <tr style=\"text-align: right;\">\n",
       "      <th></th>\n",
       "      <th>Applicant_Income</th>\n",
       "      <th>Coapplicant_Income</th>\n",
       "      <th>Amount_Requested</th>\n",
       "      <th>Term</th>\n",
       "    </tr>\n",
       "  </thead>\n",
       "  <tbody>\n",
       "    <tr>\n",
       "      <th>0</th>\n",
       "      <td>9329.0</td>\n",
       "      <td>0.0</td>\n",
       "      <td>189.0</td>\n",
       "      <td>180.0</td>\n",
       "    </tr>\n",
       "    <tr>\n",
       "      <th>1</th>\n",
       "      <td>2043.0</td>\n",
       "      <td>1619.0</td>\n",
       "      <td>102.0</td>\n",
       "      <td>360.0</td>\n",
       "    </tr>\n",
       "    <tr>\n",
       "      <th>2</th>\n",
       "      <td>4754.0</td>\n",
       "      <td>2331.0</td>\n",
       "      <td>129.0</td>\n",
       "      <td>360.0</td>\n",
       "    </tr>\n",
       "    <tr>\n",
       "      <th>3</th>\n",
       "      <td>2721.0</td>\n",
       "      <td>0.0</td>\n",
       "      <td>59.0</td>\n",
       "      <td>180.0</td>\n",
       "    </tr>\n",
       "    <tr>\n",
       "      <th>4</th>\n",
       "      <td>2998.0</td>\n",
       "      <td>3419.0</td>\n",
       "      <td>56.0</td>\n",
       "      <td>180.0</td>\n",
       "    </tr>\n",
       "  </tbody>\n",
       "</table>\n",
       "</div>"
      ],
      "text/plain": [
       "   Applicant_Income  Coapplicant_Income  Amount_Requested   Term\n",
       "0            9329.0                 0.0             189.0  180.0\n",
       "1            2043.0              1619.0             102.0  360.0\n",
       "2            4754.0              2331.0             129.0  360.0\n",
       "3            2721.0                 0.0              59.0  180.0\n",
       "4            2998.0              3419.0              56.0  180.0"
      ]
     },
     "execution_count": 36,
     "metadata": {},
     "output_type": "execute_result"
    }
   ],
   "source": [
    "num_data.head() # check the 5 rows of the num_data set"
   ]
  },
  {
   "cell_type": "code",
   "execution_count": 37,
   "id": "bfbbc0d4-54bb-4895-a1b0-366199af30aa",
   "metadata": {},
   "outputs": [
    {
     "data": {
      "text/html": [
       "<div>\n",
       "<style scoped>\n",
       "    .dataframe tbody tr th:only-of-type {\n",
       "        vertical-align: middle;\n",
       "    }\n",
       "\n",
       "    .dataframe tbody tr th {\n",
       "        vertical-align: top;\n",
       "    }\n",
       "\n",
       "    .dataframe thead th {\n",
       "        text-align: right;\n",
       "    }\n",
       "</style>\n",
       "<table border=\"1\" class=\"dataframe\">\n",
       "  <thead>\n",
       "    <tr style=\"text-align: right;\">\n",
       "      <th></th>\n",
       "      <th>Gender</th>\n",
       "      <th>Marital_Status</th>\n",
       "      <th>Number_of_Dependents</th>\n",
       "      <th>Education_Level</th>\n",
       "      <th>Independent_Worker</th>\n",
       "      <th>Location</th>\n",
       "      <th>Credit_History</th>\n",
       "      <th>Approval_Status</th>\n",
       "    </tr>\n",
       "  </thead>\n",
       "  <tbody>\n",
       "    <tr>\n",
       "      <th>0</th>\n",
       "      <td>Male</td>\n",
       "      <td>Yes</td>\n",
       "      <td>0</td>\n",
       "      <td>Graduate</td>\n",
       "      <td>No</td>\n",
       "      <td>Rural</td>\n",
       "      <td>1.0</td>\n",
       "      <td>Y</td>\n",
       "    </tr>\n",
       "    <tr>\n",
       "      <th>1</th>\n",
       "      <td>Male</td>\n",
       "      <td>Yes</td>\n",
       "      <td>2</td>\n",
       "      <td>Graduate</td>\n",
       "      <td>No</td>\n",
       "      <td>Rural</td>\n",
       "      <td>1.0</td>\n",
       "      <td>Y</td>\n",
       "    </tr>\n",
       "    <tr>\n",
       "      <th>2</th>\n",
       "      <td>Male</td>\n",
       "      <td>Yes</td>\n",
       "      <td>0</td>\n",
       "      <td>Graduate</td>\n",
       "      <td>No</td>\n",
       "      <td>Urban</td>\n",
       "      <td>1.0</td>\n",
       "      <td>Y</td>\n",
       "    </tr>\n",
       "    <tr>\n",
       "      <th>3</th>\n",
       "      <td>Male</td>\n",
       "      <td>No</td>\n",
       "      <td>0</td>\n",
       "      <td>Not Graduate</td>\n",
       "      <td>No</td>\n",
       "      <td>Urban</td>\n",
       "      <td>1.0</td>\n",
       "      <td>Y</td>\n",
       "    </tr>\n",
       "    <tr>\n",
       "      <th>4</th>\n",
       "      <td>Male</td>\n",
       "      <td>Yes</td>\n",
       "      <td>0</td>\n",
       "      <td>Graduate</td>\n",
       "      <td>No</td>\n",
       "      <td>Semiurban</td>\n",
       "      <td>1.0</td>\n",
       "      <td>Y</td>\n",
       "    </tr>\n",
       "  </tbody>\n",
       "</table>\n",
       "</div>"
      ],
      "text/plain": [
       "  Gender Marital_Status Number_of_Dependents Education_Level  \\\n",
       "0   Male            Yes                    0        Graduate   \n",
       "1   Male            Yes                    2        Graduate   \n",
       "2   Male            Yes                    0        Graduate   \n",
       "3   Male             No                    0    Not Graduate   \n",
       "4   Male            Yes                    0        Graduate   \n",
       "\n",
       "  Independent_Worker   Location Credit_History Approval_Status  \n",
       "0                 No      Rural            1.0               Y  \n",
       "1                 No      Rural            1.0               Y  \n",
       "2                 No      Urban            1.0               Y  \n",
       "3                 No      Urban            1.0               Y  \n",
       "4                 No  Semiurban            1.0               Y  "
      ]
     },
     "execution_count": 37,
     "metadata": {},
     "output_type": "execute_result"
    }
   ],
   "source": [
    "cat_data.head() # check the 5 rows of the cat_data set"
   ]
  },
  {
   "cell_type": "code",
   "execution_count": 38,
   "id": "f8b8e2ff-52ea-4983-966d-f5ca6a36543c",
   "metadata": {},
   "outputs": [
    {
     "name": "stderr",
     "output_type": "stream",
     "text": [
      "C:\\Users\\user\\AppData\\Local\\Temp\\ipykernel_27360\\611042843.py:4: FutureWarning: Downcasting object dtype arrays on .fillna, .ffill, .bfill is deprecated and will change in a future version. Call result.infer_objects(copy=False) instead. To opt-in to the future behavior, set `pd.set_option('future.no_silent_downcasting', True)`\n",
      "  cat_data = cat_data.apply(lambda x:x.fillna(x.value_counts().index[0]))\n"
     ]
    },
    {
     "data": {
      "text/plain": [
       "False"
      ]
     },
     "execution_count": 38,
     "metadata": {},
     "output_type": "execute_result"
    }
   ],
   "source": [
    "# fill every column with its own most frequent value you can use\n",
    "# Fill missing values in categorical data columns with the most frequent value in each column\n",
    "cat_data = cat_data.apply(lambda x:x.fillna(x.value_counts().index[0]))\n",
    "cat_data.isnull().sum().any() # no more missing data "
   ]
  },
  {
   "cell_type": "code",
   "execution_count": 39,
   "id": "5a11d79b-0cc3-4ee9-9452-c3082c268a72",
   "metadata": {},
   "outputs": [
    {
     "name": "stderr",
     "output_type": "stream",
     "text": [
      "C:\\Users\\user\\AppData\\Local\\Temp\\ipykernel_27360\\1646775828.py:4: FutureWarning: DataFrame.fillna with 'method' is deprecated and will raise in a future version. Use obj.ffill() or obj.bfill() instead.\n",
      "  num_data.fillna(method='bfill', inplace=True)\n"
     ]
    },
    {
     "data": {
      "text/plain": [
       "False"
      ]
     },
     "execution_count": 39,
     "metadata": {},
     "output_type": "execute_result"
    }
   ],
   "source": [
    "# num_data\n",
    "# fill every missing value with the backward fill method.\n",
    "num_data.fillna(method='bfill', inplace=True)\n",
    "num_data.isnull().sum().any() # no more missing data "
   ]
  },
  {
   "cell_type": "code",
   "execution_count": 40,
   "id": "7eff38fa-81e8-4a76-9970-de518d924690",
   "metadata": {},
   "outputs": [
    {
     "data": {
      "text/html": [
       "<div>\n",
       "<style scoped>\n",
       "    .dataframe tbody tr th:only-of-type {\n",
       "        vertical-align: middle;\n",
       "    }\n",
       "\n",
       "    .dataframe tbody tr th {\n",
       "        vertical-align: top;\n",
       "    }\n",
       "\n",
       "    .dataframe thead th {\n",
       "        text-align: right;\n",
       "    }\n",
       "</style>\n",
       "<table border=\"1\" class=\"dataframe\">\n",
       "  <thead>\n",
       "    <tr style=\"text-align: right;\">\n",
       "      <th></th>\n",
       "      <th>Gender</th>\n",
       "      <th>Marital_Status</th>\n",
       "      <th>Number_of_Dependents</th>\n",
       "      <th>Education_Level</th>\n",
       "      <th>Independent_Worker</th>\n",
       "      <th>Location</th>\n",
       "      <th>Credit_History</th>\n",
       "      <th>Approval_Status</th>\n",
       "    </tr>\n",
       "  </thead>\n",
       "  <tbody>\n",
       "    <tr>\n",
       "      <th>0</th>\n",
       "      <td>Male</td>\n",
       "      <td>Yes</td>\n",
       "      <td>0</td>\n",
       "      <td>Graduate</td>\n",
       "      <td>No</td>\n",
       "      <td>Rural</td>\n",
       "      <td>1.0</td>\n",
       "      <td>Y</td>\n",
       "    </tr>\n",
       "    <tr>\n",
       "      <th>1</th>\n",
       "      <td>Male</td>\n",
       "      <td>Yes</td>\n",
       "      <td>2</td>\n",
       "      <td>Graduate</td>\n",
       "      <td>No</td>\n",
       "      <td>Rural</td>\n",
       "      <td>1.0</td>\n",
       "      <td>Y</td>\n",
       "    </tr>\n",
       "    <tr>\n",
       "      <th>2</th>\n",
       "      <td>Male</td>\n",
       "      <td>Yes</td>\n",
       "      <td>0</td>\n",
       "      <td>Graduate</td>\n",
       "      <td>No</td>\n",
       "      <td>Urban</td>\n",
       "      <td>1.0</td>\n",
       "      <td>Y</td>\n",
       "    </tr>\n",
       "    <tr>\n",
       "      <th>3</th>\n",
       "      <td>Male</td>\n",
       "      <td>No</td>\n",
       "      <td>0</td>\n",
       "      <td>Not Graduate</td>\n",
       "      <td>No</td>\n",
       "      <td>Urban</td>\n",
       "      <td>1.0</td>\n",
       "      <td>Y</td>\n",
       "    </tr>\n",
       "    <tr>\n",
       "      <th>4</th>\n",
       "      <td>Male</td>\n",
       "      <td>Yes</td>\n",
       "      <td>0</td>\n",
       "      <td>Graduate</td>\n",
       "      <td>No</td>\n",
       "      <td>Semiurban</td>\n",
       "      <td>1.0</td>\n",
       "      <td>Y</td>\n",
       "    </tr>\n",
       "  </tbody>\n",
       "</table>\n",
       "</div>"
      ],
      "text/plain": [
       "  Gender Marital_Status Number_of_Dependents Education_Level  \\\n",
       "0   Male            Yes                    0        Graduate   \n",
       "1   Male            Yes                    2        Graduate   \n",
       "2   Male            Yes                    0        Graduate   \n",
       "3   Male             No                    0    Not Graduate   \n",
       "4   Male            Yes                    0        Graduate   \n",
       "\n",
       "  Independent_Worker   Location  Credit_History Approval_Status  \n",
       "0                 No      Rural             1.0               Y  \n",
       "1                 No      Rural             1.0               Y  \n",
       "2                 No      Urban             1.0               Y  \n",
       "3                 No      Urban             1.0               Y  \n",
       "4                 No  Semiurban             1.0               Y  "
      ]
     },
     "execution_count": 40,
     "metadata": {},
     "output_type": "execute_result"
    }
   ],
   "source": [
    "from sklearn.preprocessing import LabelEncoder  # import the LabelEncoder class from thepre processing module.\n",
    "le = LabelEncoder()# Initialize a LabelEncoder object\n",
    "cat_data.head() "
   ]
  },
  {
   "cell_type": "code",
   "execution_count": 41,
   "id": "d00feeb0-2154-4a0b-acd3-95827adc3d16",
   "metadata": {},
   "outputs": [],
   "source": [
    "target_values = {'Y': 0 , 'N' : 1} # Define a dictionary to map target values from 'Y' to 0 and from 'N' to 1\n",
    "\n",
    "target = cat_data['Approval_Status'] # Extract the target variable from the categorical data\n",
    "cat_data.drop('Approval_Status', axis=1, inplace=True) # Remove the 'Approval_Status' column from the categorical data DataFrame\n",
    "\n",
    "target = target.map(target_values) # Map the target variable values using the defined dictionary"
   ]
  },
  {
   "cell_type": "code",
   "execution_count": 42,
   "id": "5e973a95-ccde-42ff-96a6-ea6759a10f1b",
   "metadata": {},
   "outputs": [],
   "source": [
    "# transform other columns\n",
    "\n",
    "for i in cat_data: # Iterate through each column in the categorical data DataFrame \n",
    "    cat_data[i] = le.fit_transform(cat_data[i])  # Use the LabelEncoder object to fit and transform each column"
   ]
  },
  {
   "cell_type": "code",
   "execution_count": 43,
   "id": "6024bcee-6bf4-47f4-aa4a-6ae712622c35",
   "metadata": {},
   "outputs": [
    {
     "data": {
      "text/plain": [
       "0    0\n",
       "1    0\n",
       "2    0\n",
       "3    0\n",
       "4    0\n",
       "Name: Approval_Status, dtype: int64"
      ]
     },
     "execution_count": 43,
     "metadata": {},
     "output_type": "execute_result"
    }
   ],
   "source": [
    "target.head() # Display the rows of the target variable"
   ]
  },
  {
   "cell_type": "code",
   "execution_count": 44,
   "id": "34c0a26f-31d4-4f46-94e4-7f55723f7633",
   "metadata": {},
   "outputs": [
    {
     "data": {
      "text/html": [
       "<div>\n",
       "<style scoped>\n",
       "    .dataframe tbody tr th:only-of-type {\n",
       "        vertical-align: middle;\n",
       "    }\n",
       "\n",
       "    .dataframe tbody tr th {\n",
       "        vertical-align: top;\n",
       "    }\n",
       "\n",
       "    .dataframe thead th {\n",
       "        text-align: right;\n",
       "    }\n",
       "</style>\n",
       "<table border=\"1\" class=\"dataframe\">\n",
       "  <thead>\n",
       "    <tr style=\"text-align: right;\">\n",
       "      <th></th>\n",
       "      <th>Gender</th>\n",
       "      <th>Marital_Status</th>\n",
       "      <th>Number_of_Dependents</th>\n",
       "      <th>Education_Level</th>\n",
       "      <th>Independent_Worker</th>\n",
       "      <th>Location</th>\n",
       "      <th>Credit_History</th>\n",
       "    </tr>\n",
       "  </thead>\n",
       "  <tbody>\n",
       "    <tr>\n",
       "      <th>0</th>\n",
       "      <td>1</td>\n",
       "      <td>1</td>\n",
       "      <td>0</td>\n",
       "      <td>0</td>\n",
       "      <td>0</td>\n",
       "      <td>0</td>\n",
       "      <td>1</td>\n",
       "    </tr>\n",
       "    <tr>\n",
       "      <th>1</th>\n",
       "      <td>1</td>\n",
       "      <td>1</td>\n",
       "      <td>2</td>\n",
       "      <td>0</td>\n",
       "      <td>0</td>\n",
       "      <td>0</td>\n",
       "      <td>1</td>\n",
       "    </tr>\n",
       "    <tr>\n",
       "      <th>2</th>\n",
       "      <td>1</td>\n",
       "      <td>1</td>\n",
       "      <td>0</td>\n",
       "      <td>0</td>\n",
       "      <td>0</td>\n",
       "      <td>2</td>\n",
       "      <td>1</td>\n",
       "    </tr>\n",
       "    <tr>\n",
       "      <th>3</th>\n",
       "      <td>1</td>\n",
       "      <td>0</td>\n",
       "      <td>0</td>\n",
       "      <td>1</td>\n",
       "      <td>0</td>\n",
       "      <td>2</td>\n",
       "      <td>1</td>\n",
       "    </tr>\n",
       "    <tr>\n",
       "      <th>4</th>\n",
       "      <td>1</td>\n",
       "      <td>1</td>\n",
       "      <td>0</td>\n",
       "      <td>0</td>\n",
       "      <td>0</td>\n",
       "      <td>1</td>\n",
       "      <td>1</td>\n",
       "    </tr>\n",
       "  </tbody>\n",
       "</table>\n",
       "</div>"
      ],
      "text/plain": [
       "   Gender  Marital_Status  Number_of_Dependents  Education_Level  \\\n",
       "0       1               1                     0                0   \n",
       "1       1               1                     2                0   \n",
       "2       1               1                     0                0   \n",
       "3       1               0                     0                1   \n",
       "4       1               1                     0                0   \n",
       "\n",
       "   Independent_Worker  Location  Credit_History  \n",
       "0                   0         0               1  \n",
       "1                   0         0               1  \n",
       "2                   0         2               1  \n",
       "3                   0         2               1  \n",
       "4                   0         1               1  "
      ]
     },
     "execution_count": 44,
     "metadata": {},
     "output_type": "execute_result"
    }
   ],
   "source": [
    "cat_data.head() # show the rows of the modified categorical data Dataset"
   ]
  },
  {
   "cell_type": "code",
   "execution_count": 45,
   "id": "b4567def-6ab0-479a-a2f9-a85503b50e90",
   "metadata": {},
   "outputs": [],
   "source": [
    "df = pd.concat([cat_data, num_data, target], axis=1) Concatenate or bring all the datasets together. "
   ]
  },
  {
   "cell_type": "code",
   "execution_count": 46,
   "id": "8c214b81-af36-452d-ac85-6100c5bd028b",
   "metadata": {},
   "outputs": [
    {
     "data": {
      "text/html": [
       "<div>\n",
       "<style scoped>\n",
       "    .dataframe tbody tr th:only-of-type {\n",
       "        vertical-align: middle;\n",
       "    }\n",
       "\n",
       "    .dataframe tbody tr th {\n",
       "        vertical-align: top;\n",
       "    }\n",
       "\n",
       "    .dataframe thead th {\n",
       "        text-align: right;\n",
       "    }\n",
       "</style>\n",
       "<table border=\"1\" class=\"dataframe\">\n",
       "  <thead>\n",
       "    <tr style=\"text-align: right;\">\n",
       "      <th></th>\n",
       "      <th>Gender</th>\n",
       "      <th>Marital_Status</th>\n",
       "      <th>Number_of_Dependents</th>\n",
       "      <th>Education_Level</th>\n",
       "      <th>Independent_Worker</th>\n",
       "      <th>Location</th>\n",
       "      <th>Credit_History</th>\n",
       "      <th>Applicant_Income</th>\n",
       "      <th>Coapplicant_Income</th>\n",
       "      <th>Amount_Requested</th>\n",
       "      <th>Term</th>\n",
       "      <th>Approval_Status</th>\n",
       "    </tr>\n",
       "  </thead>\n",
       "  <tbody>\n",
       "    <tr>\n",
       "      <th>0</th>\n",
       "      <td>1</td>\n",
       "      <td>1</td>\n",
       "      <td>0</td>\n",
       "      <td>0</td>\n",
       "      <td>0</td>\n",
       "      <td>0</td>\n",
       "      <td>1</td>\n",
       "      <td>9329.0</td>\n",
       "      <td>0.0</td>\n",
       "      <td>189.0</td>\n",
       "      <td>180.0</td>\n",
       "      <td>0</td>\n",
       "    </tr>\n",
       "    <tr>\n",
       "      <th>1</th>\n",
       "      <td>1</td>\n",
       "      <td>1</td>\n",
       "      <td>2</td>\n",
       "      <td>0</td>\n",
       "      <td>0</td>\n",
       "      <td>0</td>\n",
       "      <td>1</td>\n",
       "      <td>2043.0</td>\n",
       "      <td>1619.0</td>\n",
       "      <td>102.0</td>\n",
       "      <td>360.0</td>\n",
       "      <td>0</td>\n",
       "    </tr>\n",
       "    <tr>\n",
       "      <th>2</th>\n",
       "      <td>1</td>\n",
       "      <td>1</td>\n",
       "      <td>0</td>\n",
       "      <td>0</td>\n",
       "      <td>0</td>\n",
       "      <td>2</td>\n",
       "      <td>1</td>\n",
       "      <td>4754.0</td>\n",
       "      <td>2331.0</td>\n",
       "      <td>129.0</td>\n",
       "      <td>360.0</td>\n",
       "      <td>0</td>\n",
       "    </tr>\n",
       "    <tr>\n",
       "      <th>3</th>\n",
       "      <td>1</td>\n",
       "      <td>0</td>\n",
       "      <td>0</td>\n",
       "      <td>1</td>\n",
       "      <td>0</td>\n",
       "      <td>2</td>\n",
       "      <td>1</td>\n",
       "      <td>2721.0</td>\n",
       "      <td>0.0</td>\n",
       "      <td>59.0</td>\n",
       "      <td>180.0</td>\n",
       "      <td>0</td>\n",
       "    </tr>\n",
       "    <tr>\n",
       "      <th>4</th>\n",
       "      <td>1</td>\n",
       "      <td>1</td>\n",
       "      <td>0</td>\n",
       "      <td>0</td>\n",
       "      <td>0</td>\n",
       "      <td>1</td>\n",
       "      <td>1</td>\n",
       "      <td>2998.0</td>\n",
       "      <td>3419.0</td>\n",
       "      <td>56.0</td>\n",
       "      <td>180.0</td>\n",
       "      <td>0</td>\n",
       "    </tr>\n",
       "  </tbody>\n",
       "</table>\n",
       "</div>"
      ],
      "text/plain": [
       "   Gender  Marital_Status  Number_of_Dependents  Education_Level  \\\n",
       "0       1               1                     0                0   \n",
       "1       1               1                     2                0   \n",
       "2       1               1                     0                0   \n",
       "3       1               0                     0                1   \n",
       "4       1               1                     0                0   \n",
       "\n",
       "   Independent_Worker  Location  Credit_History  Applicant_Income  \\\n",
       "0                   0         0               1            9329.0   \n",
       "1                   0         0               1            2043.0   \n",
       "2                   0         2               1            4754.0   \n",
       "3                   0         2               1            2721.0   \n",
       "4                   0         1               1            2998.0   \n",
       "\n",
       "   Coapplicant_Income  Amount_Requested   Term  Approval_Status  \n",
       "0                 0.0             189.0  180.0                0  \n",
       "1              1619.0             102.0  360.0                0  \n",
       "2              2331.0             129.0  360.0                0  \n",
       "3                 0.0              59.0  180.0                0  \n",
       "4              3419.0              56.0  180.0                0  "
      ]
     },
     "execution_count": 46,
     "metadata": {},
     "output_type": "execute_result"
    }
   ],
   "source": [
    "df.head() # show the new data frame."
   ]
  },
  {
   "cell_type": "markdown",
   "id": "3f34953d-a2ca-4418-aa40-f53ed8695e32",
   "metadata": {},
   "source": [
    "4. Modeling \n",
    "\n",
    "Three machine learning models will be used in this section. those models are going to be KNeighbourClassifier, Desicion forest Classifier and the random forest model. To evaluate and compare the three models these evaluation criteria will be used and explained as to which model is the best fit for the loan prediction model. The criteria are accuracy,precision, recall and the F1 score will be used to evaluate the model. And the data will be divided into a 8:20 split. the train data set will be 80% and the testing data set will be 20%.\n"
   ]
  },
  {
   "cell_type": "code",
   "execution_count": 66,
   "id": "86cc7f0a-234c-412a-8600-7f12e6fb8d3c",
   "metadata": {},
   "outputs": [],
   "source": [
    "#Import the neeed libraries and modules. \n",
    "import pandas as pd\n",
    "from sklearn.model_selection import train_test_split\n",
    "from sklearn.neighbors import KNeighborsClassifier\n",
    "from sklearn.tree import DecisionTreeClassifier\n",
    "from sklearn.ensemble import RandomForestClassifier\n",
    "from sklearn.metrics import accuracy_score, precision_score, recall_score, f1_score\n",
    "from sklearn.preprocessing import LabelEncoder\n"
   ]
  },
  {
   "cell_type": "code",
   "execution_count": 67,
   "id": "fb8b58ac-0223-4c9a-b8f9-5329b891c1ef",
   "metadata": {},
   "outputs": [],
   "source": [
    "X = df.drop('Approval_Status', axis=1) # Create the feature matrix X by dropping the 'Approval_Status' column and leaving the other columns as it is. \n",
    "y = df['Approval_Status'] # target vector y is the dependent variable which is the approval status in this case. it will be stored in y.\n"
   ]
  },
  {
   "cell_type": "code",
   "execution_count": 68,
   "id": "bf33ee2f-f9c7-4177-b525-87a555ae4c71",
   "metadata": {},
   "outputs": [],
   "source": [
    "# Spliting  the dataset into training and testing sets, with 80% of the data for training and 20% for testing\n",
    "X_train, X_test, y_train, y_test = train_test_split(X, y, test_size=0.2, random_state=42) \n",
    "# Set random_state to 42 for reproducibility. this will be the same when you run this code over and over again. \n",
    "#it will make sure that the data is split as the same as before. "
   ]
  },
  {
   "cell_type": "code",
   "execution_count": 69,
   "id": "38f18c8c-a48c-4eeb-91c0-c23af574f626",
   "metadata": {},
   "outputs": [],
   "source": [
    "# Intialize the three models which are going to be used. \n",
    "\n",
    "knn = KNeighborsClassifier()\n",
    "dtree = DecisionTreeClassifier()\n",
    "rforest = RandomForestClassifier()"
   ]
  },
  {
   "cell_type": "code",
   "execution_count": 70,
   "id": "6d0726f6-d13e-4acc-ade9-7adbcb3df67e",
   "metadata": {},
   "outputs": [],
   "source": [
    "# Creating a dictionary of the models for easier access\n",
    "models = {'KNN': knn, 'Decision Tree': dtree, 'Random Forest': rforest}"
   ]
  },
  {
   "cell_type": "code",
   "execution_count": 71,
   "id": "75765df2-bb99-4b21-a423-8575cde8e150",
   "metadata": {},
   "outputs": [
    {
     "name": "stdout",
     "output_type": "stream",
     "text": [
      "Model: KNN\n",
      "Accuracy: 0.5820\n",
      "Precision: 0.2083\n",
      "Recall: 0.1351\n",
      "F1-Score: 0.1639\n",
      "\n",
      "Model: Decision Tree\n",
      "Accuracy: 0.7623\n",
      "Precision: 0.6333\n",
      "Recall: 0.5135\n",
      "F1-Score: 0.5672\n",
      "\n",
      "Model: Random Forest\n",
      "Accuracy: 0.8115\n",
      "Precision: 1.0000\n",
      "Recall: 0.3784\n",
      "F1-Score: 0.5490\n",
      "\n"
     ]
    }
   ],
   "source": [
    "# This function will train and evaluate multiple models\n",
    "def train_and_evaluate(models, X_train, y_train, X_test, y_test):\n",
    "    for name, model in models.items():\n",
    "        # Training the 3 models\n",
    "        model.fit(X_train, y_train)\n",
    "        # Making predictions\n",
    "        y_pred = model.predict(X_test)\n",
    "        # Evaluating the models \n",
    "        accuracy = accuracy_score(y_test, y_pred)\n",
    "        precision = precision_score(y_test, y_pred, average='binary')\n",
    "        recall = recall_score(y_test, y_pred, average='binary')\n",
    "        f1 = f1_score(y_test, y_pred, average='binary')\n",
    "        # Printing the evaluation criteria mentioned on documentation. \n",
    "        print(f\"Model: {name}\")\n",
    "        print(f\"Accuracy: {accuracy:.4f}\")\n",
    "        print(f\"Precision: {precision:.4f}\")\n",
    "        print(f\"Recall: {recall:.4f}\")\n",
    "        print(f\"F1-Score: {f1:.4f}\\n\")\n",
    "\n",
    "# Training and evaluating the models\n",
    "train_and_evaluate(models, X_train, y_train, X_test, y_test)"
   ]
  },
  {
   "cell_type": "markdown",
   "id": "cd42512d-0fb9-4b3d-8006-b94348cdce0a",
   "metadata": {},
   "source": [
    "5. Evaluation of the model.\n",
    "\n",
    "According to the results genarted from the three models a analysis will be conducted to see whcih model is the best fit for the company as a loan predictor.A thourgh explanation will be given as to which model is the best and why the company should select this model.\n",
    "\n",
    "To select which is the best model, compare the performnaces of the KNN, Decision tree and Random Forest based on it's accuracy,precision,recall and F1-score. \n",
    "\n",
    "KNN model:\n",
    "\n",
    "Accuracy - 58.20% this is the lowest accuracy rate of the 3 models. this indicates that it's loan approval status is 58.20% correct.\n",
    "Precision - 20.83% This percenatage is very low precision and this indicates that when the model predicts a loan approval it is correct only 20.83% times.\n",
    "Recall - The low recall suggest that it indentifies 13.51% of all the actual loan approvals.\n",
    "F1 score - The KNN has the lowest score and this indicates that there is a poor stability between precision and recall \n",
    "\n",
    "\n",
    "Decision Tree Model: \n",
    "\n",
    "Accuracy - 76.23% Can observe a noticible improvement over the KNN model but still lower than the random forest model. \n",
    "Precision - 63.33% indicates that the is a reasonably a good rate of correct predictions of the loan approval.\n",
    "Recall - 51.23% when observing the recall more than half of the actual loan approvals are identified.\n",
    "F1 score - 56.72% can say that there is a balance between the precision and recall and it is better than the KNN model but it is not high given the vlues of the precision and the recall values.\n",
    "\n",
    "Random Forest Model:\n",
    "\n",
    "Accuracy - 81.15% this model has the highest accuracy rate of all the models and this indicates that the highest overall rate of predicting correctly.\n",
    "Precision - 100% rate means that every prediction of the loan approval by the model is corect and this is a ideal way of avoiuding the false positives.\n",
    "Recall - 37.84% is lower than the decsion tree which means it identifies a lesser number of loan approvals.\n",
    "F1 score - 54.90% even though the model had a higher precision, the low recall, value affects the F1 score of the model. \n",
    "\n",
    "\n",
    "In conclusion the best model for the bank based on it's objectives is the Random forest model. The reasoning behind this is that the model has the highest accuracy rate an dthe precisionrate out of the other models. This means that the random forest model is very relaible model when predicting.when the model predicts loan approvals it is definitely correct. But the recall of this model is lower than the decision tree. in this case can conclude that it is more conservatuve when granting loans. this could lead to the model missing out on customers who are actually eligble for the loan. the bank should consider tuning this model and featuer engineering to improve the recall values without effecting the precision value.Also the team needs to monitor the model frequently by adding new features and by training the model without fetures to see if the models predicts the outcome more accurately. \n",
    "A vizulaization has been shown for the reader to have a more clear understanding of the values predicted by all three models. \n",
    "\n",
    "Next phase of the preoject will be deployement phase of this model and how it can be integrated with the system of prosperity bank. \n",
    "\n"
   ]
  },
  {
   "cell_type": "code",
   "execution_count": 74,
   "id": "52845109-79fa-4f7e-9afb-1b43a3bf791c",
   "metadata": {},
   "outputs": [
    {
     "data": {
      "image/png": "[encoded data removed]",
      "text/plain": [
       "<Figure size 1000x600 with 1 Axes>"
      ]
     },
     "metadata": {},
     "output_type": "display_data"
    }
   ],
   "source": [
    "import matplotlib.pyplot as plt\n",
    "import pandas as pd\n",
    "\n",
    "# Model names\n",
    "models = ['KNN', 'Decision Tree', 'Random Forest']\n",
    "\n",
    "# Evaluation metrics for each model\n",
    "accuracy = [0.5820, 0.7295, 0.8115]\n",
    "precision = [0.2083, 0.5667, 0.9375]\n",
    "recall = [0.1351, 0.4595, 0.4054]\n",
    "f1_score = [0.1639, 0.5075, 0.5660]\n",
    "\n",
    "# Creating a DataFrame from the metrics\n",
    "df_metrics = pd.DataFrame({\n",
    "    'Accuracy': accuracy,\n",
    "    'Precision': precision,\n",
    "    'Recall': recall,\n",
    "    'F1-Score': f1_score\n",
    "}, index=models)\n",
    "\n",
    "# Plotting\n",
    "df_metrics.plot(kind='bar', figsize=(10, 6))\n",
    "plt.title('Model Evaluation Metrics')\n",
    "plt.ylabel('Score')\n",
    "plt.xticks(rotation=0)  # Rotate model names for better readability\n",
    "plt.legend(loc='upper left', bbox_to_anchor=(1, 1))  # Place the legend outside the plot\n",
    "plt.grid(axis='y', linestyle='--', alpha=0.7)\n",
    "plt.show()"
   ]
  },
  {
   "cell_type": "markdown",
   "id": "da7935cd-172a-47b8-8eda-14aee295f15d",
   "metadata": {},
   "source": [
    "6. Deployment.\n",
    "\n",
    "After evaluating and thouruoghly examining the results of the models. The teams of the bank will begin the deployment of the model into the banks infasstructure. In this case it will be implemented into the loan department of the banking. In this case the selecetd model is the random forest classifier which has the highest accuaracy rate of all three models and this model matches the banks objectivves to predict and approve the auto loan system for cutomers. After uploading the model into the banks internal servers or the cloud platforms. Using a API the bank can genarate real time predictions from this model.\n",
    "\n",
    "And this model needs to monitored and it's performances needs to tracked byusing new data to make sure that the model is stable and it predicts the correct results which the bank wants for its loan approval. And lastly the data governance team should make sure that the predictive nmodel which is implemented does not breach any data governance policies. This is a must as banks hold very sensitive information and one small mistake could be a huge loss to the bank. \n"
   ]
  }
 ],
 "metadata": {
  "kernelspec": {
   "display_name": "Python 3 (ipykernel)",
   "language": "python",
   "name": "python3"
  },
  "language_info": {
   "codemirror_mode": {
    "name": "ipython",
    "version": 3
   },
   "file_extension": ".py",
   "mimetype": "text/x-python",
   "name": "python",
   "nbconvert_exporter": "python",
   "pygments_lexer": "ipython3",
   "version": "3.10.9"
  }
 },
 "nbformat": 4,
 "nbformat_minor": 5
}
